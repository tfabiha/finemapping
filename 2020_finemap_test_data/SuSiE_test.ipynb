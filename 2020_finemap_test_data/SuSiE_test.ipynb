{
 "cells": [
  {
   "cell_type": "markdown",
   "metadata": {
    "kernel": "SoS"
   },
   "source": [
    "# SuSiE RSS\n",
    "\n",
    "Bayesian sum of single-effect (SuSiE) linear regression using z scores\n",
    "\n",
    "After applying LD_Clumping.ipynb and Region_Extraction.ipynb to select regions that overlap between traits, the current pipeline focuses on SuSiE to do fine mapping of those regions to see if theres something of interest."
   ]
  },
  {
   "cell_type": "markdown",
   "metadata": {
    "kernel": "SoS"
   },
   "source": [
    "To run this notebook follow the example:\n",
    "\n",
    "```\n",
    "sos run ~/project/UKBB_GWAS_dev/workflow/SuSiE_test.ipynb \\\n",
    "    --cwd output \\\n",
    "    --region_dir /gpfs/gibbs/pi/dewan/data/UKBiobank/results/region_extraction/f3393_hearing_aid \\\n",
    "    --region_file /gpfs/gibbs/pi/dewan/data/UKBiobank/results/LD_clumping/f3393_hearing_aid/200828_UKBB_Hearing_aid_f3393_hearing_aid_cat.fastGWA.snp_stats.clumped_region \\\n",
    "    --sumstats_path /gpfs/gibbs/pi/dewan/data/UKBiobank/results/FastGWA_results/results_imputed_data/f3393_hearing_aid/*.snp_stats.gz \\\n",
    "    --N 230411 \\\n",
    "    --container_lmm /gpfs/gibbs/pi/dewan/data/UKBiobank/lmm.sif\n",
    "    $JOB_OPT\n",
    "```"
   ]
  },
  {
   "cell_type": "code",
   "execution_count": 32,
   "metadata": {
    "kernel": "SoS"
   },
   "outputs": [],
   "source": [
    "[global]\n",
    "# Path to region extraction files\n",
    "parameter: region_dir = path\n",
    "#The region file after LD clumping\n",
    "parameter: region_file = path\n",
    "parameter: sumstats_path = path\n",
    "fail_if(not region_file.is_file(), msg = 'Cannot find regions to fine map. Please specify them using ``--region-file`` option.')\n",
    "# Load all regions of interest. Each item in the list will be a region: (chr, start, end)\n",
    "regions = [x.strip() for x in open(region_file).readlines()]\n",
    "regions = [x.replace(' ', '_' ) for x in regions]\n",
    "#The directory for output files\n",
    "parameter: cwd = path\n",
    "## The container with the lmm/marp software. Can be either a dockerhub image or a singularity `sif` file.\n",
    "#parameter: container_lmm = '/home/hs863/LMM/lmm_v_1_3.sif'\n",
    "parameter: container_lmm = 'statisticalgenetics/lmm:1.4'\n",
    "parameter: container_marp = 'gaow/marp'\n",
    "# Specific number of threads to use\n",
    "parameter: numThreads = 2"
   ]
  },
  {
   "cell_type": "code",
   "execution_count": 37,
   "metadata": {
    "kernel": "SoS"
   },
   "outputs": [],
   "source": [
    "[default_1]\n",
    "parameter: N = int\n",
    "input: [(f\"{region_dir}/{x}/{sumstats_path:bn}.all_chr_{x}.sumstats.gz\", f\"{region_dir}/{x}/{sumstats_path:bn}.all_chr_{x}.sample_ld.gz\") for x in regions], group_by = 2\n",
    "output: [f'{cwd}/{x}.{sumstats_path:bnn}.SuSiE_RSS.rds' for x in regions], group_by=1\n",
    "task: trunk_workers = 1, trunk_size = job_size, walltime = '12h', mem = '20G', cores = numThreads, tags = f'{step_name}_{_output:bn}'\n",
    "R: container=container_lmm, expand = \"${ }\", stderr = f'{_output:n}.stderr', stdout = f'{_output:n}.stdout'\n",
    "    sumstat = read.csv(${_input[0]:r}, sep = '\\t', header=T,stringsAsFactors=F)\n",
    "    ld = read.csv(${_input[1]:r}, sep = '\\t', header=T, stringsAsFactors=F)\n",
    "    ld = as.matrix(ld[,-1])\n",
    "    print(names(sumstat))\n",
    "    print(dim(sumstat$Z))\n",
    "    res = susieR::susie_rss(as.double(sumstat$Z), ld, z_ld_weight = 1/${N}, \n",
    "                            L = 10,\n",
    "                            estimate_residual_variance = TRUE, check_R=F,\n",
    "                            estimate_prior_variance = TRUE, check_z = F)\n",
    "    res$pos = as.integer(sumstat$POS)\n",
    "    res$z = as.double(sumstat$Z)\n",
    "    res$p = as.double(sumstat$P)\n",
    "    res$var_names = sumstat$SNP\n",
    "    saveRDS(res, ${_output:r})"
   ]
  },
  {
   "cell_type": "code",
   "execution_count": 34,
   "metadata": {
    "kernel": "SoS"
   },
   "outputs": [],
   "source": [
    "[default_2]\n",
    "output: pip_plot = f\"{cwd}/{_input:bn}.png\", test = f\"{cwd}/{_input:bn}.md\", group_by=2\n",
    "task: trunk_workers = 1, trunk_size = job_size, walltime = '12h', mem = '20G', cores = numThreads, tags = f'{step_name}_{_output:bn}'\n",
    "R: container=container_lmm, expand = \"${ }\", stderr = f'{_output[0]:n}.stderr', stdout = f'{_output[0]:n}.stdout'\n",
    "    res = readRDS(${_input:r})\n",
    "    png(${_output[0]:r}, width = 8, height=5, unit='in', res=300)\n",
    "    susieR::susie_plot(res, y= \"PIP\", pos=list(attr='pos',start=res$pos[1],end=res$pos[length(res$pos)]))\n",
    "    dev.off()\n",
    "R: container=container_lmm, expand = \"${ }\", stderr = f'{_output[1]:n}.stderr', stdout = f'{_output[1]:n}.stdout'\n",
    "    res = readRDS(${_input:r})\n",
    "    cs_mat <- do.call(rbind, lapply(res$sets$cs, \n",
    "                           function(x) paste(x,collapse=\" \")\n",
    "                           )\n",
    "             )\n",
    "    write.table(cs_mat, ${_output[1]:r}, append = T, row.names = T)"
   ]
  },
  {
   "cell_type": "code",
   "execution_count": 35,
   "metadata": {
    "kernel": "SoS"
   },
   "outputs": [],
   "source": [
    "[default_3]\n",
    "sep = '\\n\\n---\\n'\n",
    "input: group_by = 'all'\n",
    "output: analysis_summary = f'{cwd}/{sumstats_path:bnn}.analysis_summary.md'\n",
    "bash: container=container_lmm, expand = \"${ }\"\n",
    "    echo '''---\n",
    "    theme: base-theme\n",
    "    style: |\n",
    "     p {\n",
    "       font-size: 24px;\n",
    "       height: 900px;\n",
    "       margin-top:1cm;\n",
    "      }\n",
    "      img {\n",
    "        height: 70%;\n",
    "        display: block;\n",
    "        margin-left: auto;\n",
    "        margin-right: auto;\n",
    "      }\n",
    "      body {\n",
    "       margin-top: auto;\n",
    "       margin-bottom: auto;\n",
    "       font-family: verdana;\n",
    "      }\n",
    "    ---    \n",
    "    ''' > ${_output}\n",
    "    set -e\n",
    "    for i in ${_input:bn}; do\n",
    "    echo -e  \"#\\n\\n Susie RSS $i \\n\" >> ${_output}\n",
    "    echo -e \"![]($i.png)${sep}\" >> ${_output}\n",
    "    done"
   ]
  },
  {
   "cell_type": "code",
   "execution_count": 36,
   "metadata": {
    "kernel": "SoS"
   },
   "outputs": [],
   "source": [
    "# Generate analysis report: HTML file, and optionally PPTX file\n",
    "[default_4]\n",
    "output: f\"{_input['analysis_summary']:n}.html\"\n",
    "sh: container=container_marp, expand = \"${ }\", stderr = f'{_output:n}.stderr', stdout = f'{_output:n}.stdout'\n",
    "    node /opt/marp/.cli/marp-cli.js ${_input['analysis_summary']} -o ${_output:a} \\\n",
    "        --title '${region_file:bnn} fine mapping analysis' \\\n",
    "        --allow-local-files\n",
    "    node /opt/marp/.cli/marp-cli.js ${_input['analysis_summary']} -o ${_output:an}.pptx \\\n",
    "        --title '${region_file:bnn} fine mapping analysis' \\\n",
    "        --allow-local-files"
   ]
  }
 ],
 "metadata": {
  "kernelspec": {
   "display_name": "SoS",
   "language": "sos",
   "name": "sos"
  },
  "language_info": {
   "codemirror_mode": "sos",
   "file_extension": ".sos",
   "mimetype": "text/x-sos",
   "name": "sos",
   "nbconvert_exporter": "sos_notebook.converter.SoS_Exporter",
   "pygments_lexer": "sos"
  },
  "sos": {
   "kernels": [
    [
     "SoS",
     "sos",
     "",
     ""
    ]
   ],
   "version": "0.20.1"
  }
 },
 "nbformat": 4,
 "nbformat_minor": 4
}
